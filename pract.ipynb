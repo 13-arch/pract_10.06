{
 "cells": [
  {
   "cell_type": "code",
   "execution_count": 36,
   "metadata": {},
   "outputs": [
    {
     "name": "stdout",
     "output_type": "stream",
     "text": [
      "Введите радиус: \n",
      "not number\n"
     ]
    },
    {
     "ename": "SystemExit",
     "evalue": "",
     "output_type": "error",
     "traceback": [
      "An exception has occurred, use %tb to see the full traceback.\n",
      "\u001b[1;31mSystemExit\u001b[0m\n"
     ]
    }
   ],
   "source": [
    "class Error(Exception):\n",
    "    pass\n",
    "\n",
    "def plosh(a):        #Функция для поиска площади\n",
    "    pl=a*a*3.14\n",
    "    return pl\n",
    "\n",
    "    \n",
    "def dlina(a):        #Функция поиска длины\n",
    "    dl=2*a*3.14\n",
    "    return dl\n",
    "\n",
    "\n",
    "print(\"Введите радиус: \") #Ввод\n",
    "inp=input()\n",
    "try:\n",
    "    if inp==\"\" :\n",
    "        raise Error\n",
    "    rad = eval(inp)\n",
    "    rad=float(rad)\n",
    "except NameError:\n",
    "    print(\"not number\")\n",
    "    raise SystemExit\n",
    "except Error:\n",
    "    print('empty')\n",
    "    raise SystemExit\n",
    "if rad<0:\n",
    "    print('rad cant be below 0')\n",
    "    raise SystemExit\n",
    "pl=plosh(rad)             #Использовние функций\n",
    "dl=dlina(rad)\n",
    "print(\"Длина этой окружности:\", dl)    #Вывод\n",
    "print(\"Площадь этой окружности:\", pl)"
   ]
  },
  {
   "cell_type": "markdown",
   "metadata": {},
   "source": [
    "радиус:1          ++-++\n",
    "радиус:0          ++-++\n",
    "радиус:0.000001   -+-++\n",
    "радиус:-5         ---++\n",
    "радиус:abc        --+++\n",
    "радиус:\"\"         --+++\n",
    "радиус:10**-9     ----+"
   ]
  },
  {
   "cell_type": "code",
   "execution_count": null,
   "metadata": {},
   "outputs": [],
   "source": [
    "a = eval(str(\"10**-9\"))"
   ]
  },
  {
   "cell_type": "code",
   "execution_count": 38,
   "metadata": {},
   "outputs": [],
   "source": [
    "import unittest\n",
    "\n",
    "\n",
    "#тестируемая часть приложения\n",
    "\n",
    "def round_square(r):        #Функция для поиска площади\n",
    "    square=r*r*3.14\n",
    "    return square\n",
    "\n",
    "    \n",
    "def circle(r):        #Функция поиска длины\n",
    "    length=2*r*3.14\n",
    "    return length\n",
    "\n",
    "\n"
   ]
  },
  {
   "cell_type": "code",
   "execution_count": 39,
   "metadata": {},
   "outputs": [
    {
     "name": "stderr",
     "output_type": "stream",
     "text": [
      "usage: ipykernel_launcher.py [-h] [-v] [-q] [--locals] [--durations N] [-f]\n",
      "                             [-c] [-b] [-k TESTNAMEPATTERNS]\n",
      "                             [tests ...]\n",
      "ipykernel_launcher.py: error: argument -f/--failfast: ignored explicit argument 'c:\\\\Users\\\\hico69\\\\AppData\\\\Roaming\\\\jupyter\\\\runtime\\\\kernel-v32dfe1754dee2c2d16e30276e6676b7dee934770e.json'\n"
     ]
    },
    {
     "ename": "SystemExit",
     "evalue": "2",
     "output_type": "error",
     "traceback": [
      "An exception has occurred, use %tb to see the full traceback.\n",
      "\u001b[1;31mSystemExit\u001b[0m\u001b[1;31m:\u001b[0m 2\n"
     ]
    },
    {
     "name": "stderr",
     "output_type": "stream",
     "text": [
      "C:\\Users\\hico69\\AppData\\Roaming\\Python\\Python312\\site-packages\\IPython\\core\\interactiveshell.py:3585: UserWarning: To exit: use 'exit', 'quit', or Ctrl-D.\n",
      "  warn(\"To exit: use 'exit', 'quit', or Ctrl-D.\", stacklevel=1)\n"
     ]
    }
   ],
   "source": [
    "#тестирующая часть приложения\n",
    "\n",
    "class TestRoundSquare(unittest.TestCase):\n",
    "    def positive_numbers(self):\n",
    "        self.assertEqual(round_square(2), 12.56)\n",
    "\n",
    "    def integer_negativ_numbers(self):\n",
    "        self.assertEqual(round_square(-2), ValueError)\n",
    "    \n",
    "    def zero_numbers(self):\n",
    "        self.assertEqual(round_square(0), 0.0)\n",
    "\n",
    "    def float_positive_numbers(self):\n",
    "        self.assertEqual(round_square(0.1), 0.314)\n",
    "    \n",
    "    def error_input(self):\n",
    "        self.assertEqual(round_square('dsfsdf'), ValueError)\n",
    "        self.assertEqual(round_square(''), ValueError)\n",
    "        self.assertEqual(round_square(10**-9), ValueError)\n",
    "\n",
    "if __name__ == \"__main__\":\n",
    "    unittest.main()\n",
    "          "
   ]
  }
 ],
 "metadata": {
  "kernelspec": {
   "display_name": "Python 3",
   "language": "python",
   "name": "python3"
  },
  "language_info": {
   "codemirror_mode": {
    "name": "ipython",
    "version": 3
   },
   "file_extension": ".py",
   "mimetype": "text/x-python",
   "name": "python",
   "nbconvert_exporter": "python",
   "pygments_lexer": "ipython3",
   "version": "3.12.3"
  }
 },
 "nbformat": 4,
 "nbformat_minor": 2
}
